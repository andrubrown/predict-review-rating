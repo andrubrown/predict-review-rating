{
 "metadata": {
  "name": "",
  "signature": "sha256:921241c1e25410d062b4831101c1bbadebf79ed519e10456a69d172f2910ef9c"
 },
 "nbformat": 3,
 "nbformat_minor": 0,
 "worksheets": [
  {
   "cells": [
    {
     "cell_type": "markdown",
     "metadata": {},
     "source": [
      "# [Yelp Dataset Challenge](http://www.yelp.com/dataset_challenge)\n",
      "**Chetan Naik** and **Rakesh Chada**"
     ]
    },
    {
     "cell_type": "markdown",
     "metadata": {},
     "source": [
      "---"
     ]
    },
    {
     "cell_type": "markdown",
     "metadata": {},
     "source": [
      "**[Introduction](#intro)**\n",
      "- [The Challenge](#challenge)\n",
      "- [Notes on the Dataset](#notes)\n",
      "\n",
      "**[Let the mining begin!](#mining)**\n",
      "- [1. Cleaning the Data](#section1)\n",
      "- [2. Understanding Data](#section2)"
     ]
    },
    {
     "cell_type": "markdown",
     "metadata": {},
     "source": [
      "## <a id='intro'>Introduction</a>"
     ]
    },
    {
     "cell_type": "markdown",
     "metadata": {},
     "source": [
      "### <a id='challenge'>The Challenge</a>\n",
      "- How well can you guess a review's rating from its text alone?\n",
      "- Can you take all of the reviews of a business and predict when it will be the most busy, or when the business is open?\n",
      "- Can you predict if a business is good for kids? Has Wi-Fi? Has Parking?\n",
      "- What makes a review useful, funny, or cool?\n",
      "- Can you figure out which business a user is likely to review next?\n",
      "- How much of a business's success is really just location, location, location?\n",
      "- What businesses deserve their own subcategory (i.e., Szechuan or Hunan versus just \"Chinese restaurants\"), and can you learn this from the review text?\n",
      "- What makes a tip useful?\n",
      "- What are the differences between the cities in the dataset?"
     ]
    },
    {
     "cell_type": "markdown",
     "metadata": {},
     "source": [
      "---"
     ]
    },
    {
     "cell_type": "markdown",
     "metadata": {},
     "source": [
      "### <a id='notes'>Notes on the Dataset</a>\n",
      "\n",
      "**business**\n",
      "<code><pre>{\n",
      "    'type': 'business',\n",
      "    'business_id': (encrypted business id),\n",
      "    'name': (business name),\n",
      "    'neighborhoods': [(hood names)],\n",
      "    'full_address': (localized address),\n",
      "    'city': (city),\n",
      "    'state': (state),\n",
      "    'latitude': latitude,\n",
      "    'longitude': longitude,\n",
      "    'stars': (star rating, rounded to half-stars),\n",
      "    'review_count': review count,\n",
      "    'categories': [(localized category names)]\n",
      "    'open': True / False (corresponds to closed, not business hours),\n",
      "    'hours': {\n",
      "        (day_of_week): {\n",
      "            'open': (HH:MM),\n",
      "            'close': (HH:MM)\n",
      "        },\n",
      "        ...\n",
      "    },\n",
      "    'attributes': {\n",
      "        (attribute_name): (attribute_value),\n",
      "        ...\n",
      "    },\n",
      "}</pre></code>\n",
      "\n",
      "**review**\n",
      "<code><pre>{\n",
      "    'type': 'review',\n",
      "    'business_id': (encrypted business id),\n",
      "    'user_id': (encrypted user id),\n",
      "    'stars': (star rating, rounded to half-stars),\n",
      "    'text': (review text),\n",
      "    'date': (date, formatted like '2012-03-14'),\n",
      "    'votes': {(vote type): (count)},\n",
      "}</pre></code>\n",
      "\n",
      "**user**\n",
      "<code><pre>{\n",
      "    'type': 'user',\n",
      "    'user_id': (encrypted user id),\n",
      "    'name': (first name),\n",
      "    'review_count': (review count),\n",
      "    'average_stars': (floating point average, like 4.31),\n",
      "    'votes': {(vote type): (count)},\n",
      "    'friends': [(friend user_ids)],\n",
      "    'elite': [(years_elite)],\n",
      "    'yelping_since': (date, formatted like '2012-03'),\n",
      "    'compliments': {\n",
      "        (compliment_type): (num_compliments_of_this_type),\n",
      "        ...\n",
      "    },\n",
      "    'fans': (num_fans),\n",
      "}</pre></code>\n",
      "\n",
      "**check-in**\n",
      "<code><pre>{\n",
      "    'type': 'checkin',\n",
      "    'business_id': (encrypted business id),\n",
      "    'checkin_info': {\n",
      "        '0-0': (number of checkins from 00:00 to 01:00 on all Sundays),\n",
      "        '1-0': (number of checkins from 01:00 to 02:00 on all Sundays),\n",
      "        ...\n",
      "        '14-4': (number of checkins from 14:00 to 15:00 on all Thursdays),\n",
      "        ...\n",
      "        '23-6': (number of checkins from 23:00 to 00:00 on all Saturdays)\n",
      "    }, # if there was no checkin for a hour-day block it will not be in the dict\n",
      "}</pre></code>\n",
      "\n",
      "**tip**\n",
      "<code><pre>{\n",
      "    'type': 'tip',\n",
      "    'text': (tip text),\n",
      "    'business_id': (encrypted business id),\n",
      "    'user_id': (encrypted user id),\n",
      "    'date': (date, formatted like '2012-03-14'),\n",
      "    'likes': (count),\n",
      "}</pre></code>"
     ]
    },
    {
     "cell_type": "markdown",
     "metadata": {},
     "source": [
      "## <a id='mining'>Let the mining begin!</a>"
     ]
    },
    {
     "cell_type": "markdown",
     "metadata": {},
     "source": [
      "### <a id='section1'>1. Cleaning the Data</a>"
     ]
    },
    {
     "cell_type": "code",
     "collapsed": false,
     "input": [
      "%pylab inline"
     ],
     "language": "python",
     "metadata": {},
     "outputs": [
      {
       "output_type": "stream",
       "stream": "stdout",
       "text": [
        "Populating the interactive namespace from numpy and matplotlib\n"
       ]
      }
     ],
     "prompt_number": 1
    },
    {
     "cell_type": "markdown",
     "metadata": {},
     "source": [
      "#### 1.1 Importing necessary libraries"
     ]
    },
    {
     "cell_type": "code",
     "collapsed": false,
     "input": [
      "import time\n",
      "import datetime\n",
      "\n",
      "import matplotlib.pyplot as plt\n",
      "\n",
      "import numpy as np\n",
      "import pandas as pd\n",
      "import pylab\n",
      "import scipy as sp\n",
      "import seaborn\n",
      "\n",
      "plt.rc('figure', figsize=(10,6))"
     ],
     "language": "python",
     "metadata": {},
     "outputs": [],
     "prompt_number": 2
    },
    {
     "cell_type": "code",
     "collapsed": false,
     "input": [
      "colors = seaborn.color_palette()\n",
      "\n",
      "from matplotlib import rc\n",
      "\n",
      "rc(\"figure\", facecolor=\"white\")\n",
      "rc(\"axes\", facecolor=\"white\")\n",
      "rc(\"axes\", edgecolor=\"grey\")\n",
      "\n",
      "\n",
      "rc(\"grid\", alpha=0.9)\n",
      "rc(\"grid\", linewidth=0.8)\n",
      "rc(\"grid\", linestyle=\":\")"
     ],
     "language": "python",
     "metadata": {},
     "outputs": [],
     "prompt_number": 3
    },
    {
     "cell_type": "markdown",
     "metadata": {},
     "source": [
      "#### 1.2 Need to run the following if you want to convert json file to csv file"
     ]
    },
    {
     "cell_type": "code",
     "collapsed": false,
     "input": [
      "# \"\"\" Convert the Yelp Dataset Challenge dataset from json format to csv.\n",
      "# For more information on the Yelp Dataset Challenge please visit http://yelp.com/dataset_challenge\n",
      "# \"\"\"\n",
      "\n",
      "# import optparse\n",
      "# import collections\n",
      "# import csv\n",
      "# import simplejson as json\n",
      "\n",
      "# def read_file(file_path):\n",
      "#     \"\"\"Read in the json dataset file and return a list of python dicts.\"\"\"\n",
      "#     file_contents = []\n",
      "#     column_names = set()\n",
      "#     with open(file_path) as fin:\n",
      "#         for line in fin:\n",
      "#             line_contents = json.loads(line)\n",
      "#             column_names.update(\n",
      "#                     set(get_column_names(line_contents).keys())\n",
      "#                     )\n",
      "#             file_contents.append(line_contents)\n",
      "#     return file_contents, column_names\n",
      "\n",
      "# def get_column_names(line_contents, parent_key=''):\n",
      "#     \"\"\"Return a list of flattened key names given a dict.\n",
      "#     Example:\n",
      "#         line_contents = {\n",
      "#             'a': {\n",
      "#                 'b': 2,\n",
      "#                 'c': 3,\n",
      "#                 },\n",
      "#         }\n",
      "\n",
      "#         will return: ['a.b', 'a.c']\n",
      "#     These will be the column names for the eventual csv file.\n",
      "#     \"\"\"\n",
      "#     column_names = []\n",
      "#     for k, v in line_contents.iteritems():\n",
      "#         column_name = \"{0}.{1}\".format(parent_key, k) if parent_key else k\n",
      "#         if isinstance(v, collections.MutableMapping):\n",
      "#             column_names.extend(\n",
      "#                     get_column_names(v, column_name).items()\n",
      "#                     )\n",
      "#         else:\n",
      "#             column_names.append((column_name, v))\n",
      "#     return dict(column_names)\n",
      "\n",
      "# def get_nested_value(d, key):\n",
      "#     \"\"\"Return a dictionary item given a dictionary `d` and a flattened key from `get_column_names`.\n",
      "#     Example:\n",
      "#         d = {\n",
      "#             'a': {\n",
      "#                 'b': 2,\n",
      "#                 'c': 3,\n",
      "#                 },\n",
      "#         }\n",
      "#         key = 'a.b'\n",
      "\n",
      "#         will return: 2\n",
      "#     \"\"\"\n",
      "#     if '.' not in key:\n",
      "#         if key not in d:\n",
      "#             return None\n",
      "#         return d[key]\n",
      "#     base_key, sub_key = key.split('.', 1)\n",
      "#     if base_key not in d:\n",
      "#         return None\n",
      "#     sub_dict = d[base_key]\n",
      "#     return get_nested_value(sub_dict, sub_key)\n",
      "\n",
      "# def get_row(line_contents, column_names):\n",
      "#     \"\"\"Return a csv compatible row given column names and a dict.\"\"\"\n",
      "#     row = []\n",
      "#     for column_name in column_names:\n",
      "#         line_value = get_nested_value(\n",
      "#                         line_contents,\n",
      "#                         column_name,\n",
      "#                         )\n",
      "#         if isinstance(line_value, unicode):\n",
      "#             row.append('{0}'.format(line_value.encode('utf-8')))\n",
      "#         elif line_value is not None:\n",
      "#             row.append('{0}'.format(line_value))\n",
      "#         else:\n",
      "#             row.append('')\n",
      "#     return row\n",
      "\n",
      "# def write_file(file_path, file_contents, column_names):\n",
      "#     \"\"\"Create and write a csv file given file_contents of our json dataset file and column names.\"\"\"\n",
      "#     csv_file = csv.writer(open('file_path', 'wb+'))\n",
      "#     with open(file_path, 'wb+') as fin:\n",
      "#         csv_file = csv.writer(fin)\n",
      "#         csv_file.writerow(list(column_names))\n",
      "#         for line_contents in file_contents:\n",
      "#             csv_file.writerow(get_row(line_contents, column_names))"
     ],
     "language": "python",
     "metadata": {},
     "outputs": [],
     "prompt_number": 4
    },
    {
     "cell_type": "code",
     "collapsed": false,
     "input": [
      "# file_contents, column_names = read_file('yelp_academic_dataset_business.json')\n",
      "# write_file('yelp_academic_dataset_business.csv', file_contents, column_names)\n",
      "\n",
      "# file_contents, column_names = read_file('yelp_academic_dataset_checkin.json')\n",
      "# write_file('yelp_academic_dataset_checkin.csv', file_contents, column_names)\n",
      "\n",
      "# file_contents, column_names = read_file('yelp_academic_dataset_review.json')\n",
      "# write_file('yelp_academic_dataset_review.csv', file_contents, column_names)\n",
      "\n",
      "# file_contents, column_names = read_file('yelp_academic_dataset_tip.json')\n",
      "# write_file('yelp_academic_dataset_tip.csv', file_contents, column_names)\n",
      "\n",
      "# file_contents, column_names = read_file('yelp_academic_dataset_user.json')\n",
      "# write_file('yelp_academic_dataset_user.csv', file_contents, column_names)"
     ],
     "language": "python",
     "metadata": {},
     "outputs": [],
     "prompt_number": 5
    },
    {
     "cell_type": "markdown",
     "metadata": {},
     "source": [
      "#### 1.3 Reading the csv files using pandas. Then we are merging and cleaning the various datasets."
     ]
    },
    {
     "cell_type": "markdown",
     "metadata": {},
     "source": [
      "_<span style=\"text-decoration:underline\">Note</span>:_  *hours contains day.open and day.close. This could be used to correlate with rating. eg. (A place with good food but closes very early can get few low rating reviews.)*"
     ]
    },
    {
     "cell_type": "markdown",
     "metadata": {},
     "source": [
      "Read csv files using pandas library."
     ]
    },
    {
     "cell_type": "code",
     "collapsed": false,
     "input": [
      "business_data = pd.read_csv('yelp_academic_dataset_business.csv', dtype=unicode)\n",
      "checkin_data = pd.read_csv('yelp_academic_dataset_checkin.csv')\n",
      "review_data = pd.read_csv('yelp_academic_dataset_review.csv')\n",
      "tip_data = pd.read_csv('yelp_academic_dataset_tip.csv')\n",
      "user_data = pd.read_csv('yelp_academic_dataset_user.csv')"
     ],
     "language": "python",
     "metadata": {},
     "outputs": [],
     "prompt_number": 6
    },
    {
     "cell_type": "markdown",
     "metadata": {},
     "source": [
      "Merge pandas dataframes."
     ]
    },
    {
     "cell_type": "code",
     "collapsed": false,
     "input": [
      "review_user_data = review_data.merge(user_data,\n",
      "                                     left_on='user_id',\n",
      "                                     right_on='user_id',\n",
      "                                     how='outer',\n",
      "                                     suffixes=('_review', '_user'))"
     ],
     "language": "python",
     "metadata": {},
     "outputs": [],
     "prompt_number": 7
    },
    {
     "cell_type": "code",
     "collapsed": false,
     "input": [
      "business_review_user_data = review_user_data.merge(business_data,\n",
      "                                                   left_on='business_id',\n",
      "                                                   right_on='business_id',\n",
      "                                                   how='outer',\n",
      "                                                   suffixes=('_reviewuser', '_business'))"
     ],
     "language": "python",
     "metadata": {},
     "outputs": [],
     "prompt_number": 8
    },
    {
     "cell_type": "markdown",
     "metadata": {},
     "source": [
      "Cleaning column names for easy access."
     ]
    },
    {
     "cell_type": "code",
     "collapsed": false,
     "input": [
      "business_review_user_data = business_review_user_data.rename(columns = {'name_reviewuser':'name_user',\n",
      "                                                                        'review_count_reviewuser':'review_count_user',\n",
      "                                                                        'stars_reviewuser':'stars_review'})"
     ],
     "language": "python",
     "metadata": {},
     "outputs": [],
     "prompt_number": 9
    },
    {
     "cell_type": "markdown",
     "metadata": {},
     "source": [
      "Note: The column representing the attribute [good for kids] is repeated (\"attributes.Good For Kids\", \"attributes.Good for Kids\")."
     ]
    },
    {
     "cell_type": "code",
     "collapsed": false,
     "input": [
      "business_review_user_data.filter(regex=\"[Kk]ids\").dropna(how='all').head()"
     ],
     "language": "python",
     "metadata": {},
     "outputs": [
      {
       "html": [
        "<div style=\"max-height:1000px;max-width:1500px;overflow:auto;\">\n",
        "<table border=\"1\" class=\"dataframe\">\n",
        "  <thead>\n",
        "    <tr style=\"text-align: right;\">\n",
        "      <th></th>\n",
        "      <th>attributes.Hair Types Specialized In.kids</th>\n",
        "      <th>attributes.Good For Kids</th>\n",
        "      <th>attributes.Good for Kids</th>\n",
        "    </tr>\n",
        "  </thead>\n",
        "  <tbody>\n",
        "    <tr>\n",
        "      <th>1792</th>\n",
        "      <td> NaN</td>\n",
        "      <td> NaN</td>\n",
        "      <td> False</td>\n",
        "    </tr>\n",
        "    <tr>\n",
        "      <th>1793</th>\n",
        "      <td> NaN</td>\n",
        "      <td> NaN</td>\n",
        "      <td> False</td>\n",
        "    </tr>\n",
        "    <tr>\n",
        "      <th>1794</th>\n",
        "      <td> NaN</td>\n",
        "      <td> NaN</td>\n",
        "      <td> False</td>\n",
        "    </tr>\n",
        "    <tr>\n",
        "      <th>1795</th>\n",
        "      <td> NaN</td>\n",
        "      <td> NaN</td>\n",
        "      <td> False</td>\n",
        "    </tr>\n",
        "    <tr>\n",
        "      <th>1796</th>\n",
        "      <td> NaN</td>\n",
        "      <td> NaN</td>\n",
        "      <td> False</td>\n",
        "    </tr>\n",
        "  </tbody>\n",
        "</table>\n",
        "<p>5 rows \u00d7 3 columns</p>\n",
        "</div>"
       ],
       "metadata": {},
       "output_type": "pyout",
       "prompt_number": 10,
       "text": [
        "     attributes.Hair Types Specialized In.kids attributes.Good For Kids  \\\n",
        "1792                                       NaN                      NaN   \n",
        "1793                                       NaN                      NaN   \n",
        "1794                                       NaN                      NaN   \n",
        "1795                                       NaN                      NaN   \n",
        "1796                                       NaN                      NaN   \n",
        "\n",
        "     attributes.Good for Kids  \n",
        "1792                    False  \n",
        "1793                    False  \n",
        "1794                    False  \n",
        "1795                    False  \n",
        "1796                    False  \n",
        "\n",
        "[5 rows x 3 columns]"
       ]
      }
     ],
     "prompt_number": 10
    },
    {
     "cell_type": "markdown",
     "metadata": {},
     "source": [
      "Dropping the repeated column with sparse values when compared to the other."
     ]
    },
    {
     "cell_type": "code",
     "collapsed": false,
     "input": [
      "business_review_user_data.drop(\"attributes.Good For Kids\", axis=1, inplace=True)"
     ],
     "language": "python",
     "metadata": {},
     "outputs": [],
     "prompt_number": 11
    },
    {
     "cell_type": "code",
     "collapsed": false,
     "input": [
      "business_review_user_data.filter(regex=\"[Kk]ids\").dropna(how='all').head()"
     ],
     "language": "python",
     "metadata": {},
     "outputs": [
      {
       "html": [
        "<div style=\"max-height:1000px;max-width:1500px;overflow:auto;\">\n",
        "<table border=\"1\" class=\"dataframe\">\n",
        "  <thead>\n",
        "    <tr style=\"text-align: right;\">\n",
        "      <th></th>\n",
        "      <th>attributes.Hair Types Specialized In.kids</th>\n",
        "      <th>attributes.Good for Kids</th>\n",
        "    </tr>\n",
        "  </thead>\n",
        "  <tbody>\n",
        "    <tr>\n",
        "      <th>1792</th>\n",
        "      <td> NaN</td>\n",
        "      <td> False</td>\n",
        "    </tr>\n",
        "    <tr>\n",
        "      <th>1793</th>\n",
        "      <td> NaN</td>\n",
        "      <td> False</td>\n",
        "    </tr>\n",
        "    <tr>\n",
        "      <th>1794</th>\n",
        "      <td> NaN</td>\n",
        "      <td> False</td>\n",
        "    </tr>\n",
        "    <tr>\n",
        "      <th>1795</th>\n",
        "      <td> NaN</td>\n",
        "      <td> False</td>\n",
        "    </tr>\n",
        "    <tr>\n",
        "      <th>1796</th>\n",
        "      <td> NaN</td>\n",
        "      <td> False</td>\n",
        "    </tr>\n",
        "  </tbody>\n",
        "</table>\n",
        "<p>5 rows \u00d7 2 columns</p>\n",
        "</div>"
       ],
       "metadata": {},
       "output_type": "pyout",
       "prompt_number": 12,
       "text": [
        "     attributes.Hair Types Specialized In.kids attributes.Good for Kids\n",
        "1792                                       NaN                    False\n",
        "1793                                       NaN                    False\n",
        "1794                                       NaN                    False\n",
        "1795                                       NaN                    False\n",
        "1796                                       NaN                    False\n",
        "\n",
        "[5 rows x 2 columns]"
       ]
      }
     ],
     "prompt_number": 12
    },
    {
     "cell_type": "markdown",
     "metadata": {},
     "source": [
      "Removing spaces from column names and replacing them with underscores."
     ]
    },
    {
     "cell_type": "code",
     "collapsed": false,
     "input": [
      "cols = business_review_user_data.columns\n",
      "cols = cols.map(lambda x: x.replace(' ', '_').lower() if isinstance(x, (str, unicode)) else x)\n",
      "business_review_user_data.columns = cols\n",
      "firstFewRows = business_review_user_data.ix[:,['categories','text','stars_review']].head(100000)\n",
      "firstFewRowsList = firstFewRows['categories'].tolist()\n",
      "restaurantsDF = firstFewRows[firstFewRows['categories'].str.contains('Restaurants')]"
     ],
     "language": "python",
     "metadata": {},
     "outputs": [],
     "prompt_number": 13
    },
    {
     "cell_type": "markdown",
     "metadata": {},
     "source": [
      "#### 1.4 Available Data\n",
      "_After cleaning and merging, we have **business_review_user_data** dataframe available for building model._"
     ]
    },
    {
     "cell_type": "markdown",
     "metadata": {},
     "source": [
      "**Hierarchical Form:**\n",
      "_to understand relations_\n",
      "<code><pre>\n",
      "{\n",
      "\t'attributes': {\n",
      "\t\t'accepts_credit_cards',\n",
      "\t\t'accepts_insurance',\n",
      "\t\t'ages_allowed',\n",
      "\t\t'alcohol',\n",
      "\t\t'attire',\n",
      "\t\t'by_appointment_only',\n",
      "\t\t'byob',\n",
      "\t\t'byob/corkage',\n",
      "\t\t'caters',\n",
      "\t\t'coat_check',\n",
      "\t\t'corkage',\n",
      "\t\t'delivery',\n",
      "\t\t'dogs_allowed',\n",
      "\t\t'drive-thru',\n",
      "\t\t'good_for_dancing',\n",
      "\t\t'good_for_groups',\n",
      "\t\t'good_for_kids',\n",
      "\t\t'happy_hour',\n",
      "\t\t'has_tv',\n",
      "\t\t'noise_level',\n",
      "\t\t'open_24_hours',\n",
      "\t\t'order_at_counter',\n",
      "\t\t'outdoor_seating',\n",
      "\t\t'price_range',\n",
      "\t\t'smoking',\n",
      "\t\t'take-out',\n",
      "\t\t'takes_reservations',\n",
      "\t\t'waiter_service',\n",
      "\t\t'wheelchair_accessible',\n",
      "\t\t'wi-fi',\n",
      "\t\t'ambience': {\n",
      "\t\t\t'casual',\n",
      "\t\t\t'classy',\n",
      "\t\t\t'divey',\n",
      "\t\t\t'hipster',\n",
      "\t\t\t'intimate',\n",
      "\t\t\t'romantic',\n",
      "\t\t\t'touristy',\n",
      "\t\t\t'trendy',\n",
      "\t\t\t'upscal'\n",
      "\t\t},\n",
      "\t\t'dietary_restrictions': {\n",
      "\t\t\t'dairy-free',\n",
      "\t\t\t'gluten-free',\n",
      "\t\t\t'halal',\n",
      "\t\t\t'kosher',\n",
      "\t\t\t'soy-free',\n",
      "\t\t\t'vegan',\n",
      "\t\t\t'vegetarian'\n",
      "\t\t},\n",
      "\t\t'good_for': {\n",
      "\t\t\t'breakfast',\n",
      "\t\t\t'brunch',\n",
      "\t\t\t'dessert',\n",
      "\t\t\t'dinner',\n",
      "\t\t\t'latenight',\n",
      "\t\t\t'lunch'\n",
      "\t\t},\n",
      "\t\t'hair_types_specialized_in': {\n",
      "\t\t\t'africanamerican',\n",
      "\t\t\t'asian',\n",
      "\t\t\t'coloring',\n",
      "\t\t\t'curly',\n",
      "\t\t\t'extensions',\n",
      "\t\t\t'kids',\n",
      "\t\t\t'perms',\n",
      "\t\t\t'straightperms'\n",
      "\t\t},\n",
      "\t\t'music': {\n",
      "\t\t\t'background_music',\n",
      "\t\t\t'dj',\n",
      "\t\t\t'jukebox',\n",
      "\t\t\t'karaoke',\n",
      "\t\t\t'live',\n",
      "\t\t\t'playlist',\n",
      "\t\t\t'video'\n",
      "\t\t},\n",
      "\t\t'parking': {\n",
      "\t\t\t'garage',\n",
      "\t\t\t'lot',\n",
      "\t\t\t'street',\n",
      "\t\t\t'valet',\n",
      "\t\t\t'validated'\n",
      "\t\t},\n",
      "\t\t'payment_types': {\n",
      "\t\t\t'amex',\n",
      "\t\t\t'cash_only',\n",
      "\t\t\t'discover',\n",
      "\t\t\t'mastercard',\n",
      "\t\t\t'visa'\n",
      "\t\t}\n",
      "\t},\n",
      "\t'average_stars',\n",
      "\t'business_id',\n",
      "\t'categories',\n",
      "\t'city',\n",
      "\t'compliments': {\n",
      "\t\t'writer',\n",
      "\t\t'profile',\n",
      "\t\t'plain',\n",
      "\t\t'photos',\n",
      "\t\t'note',\n",
      "\t\t'more',\n",
      "\t\t'list',\n",
      "\t\t'hot',\n",
      "\t\t'funny',\n",
      "\t\t'cute',\n",
      "\t\t'cool',\n",
      "\t},\n",
      "\t'date',\n",
      "\t'elite',\n",
      "\t'fans',\n",
      "\t'friends',\n",
      "\t'full_address',\n",
      "\t'hours': {\n",
      "\t\t'wednesday': {\n",
      "\t\t\t'open',\n",
      "\t\t\t'close'\n",
      "\t\t},\n",
      "\t\t'tuesday': {\n",
      "\t\t\t'open',\n",
      "\t\t\t'close'\n",
      "\t\t},\n",
      "\t\t'thursday': {\n",
      "\t\t\t'open',\n",
      "\t\t\t'close'\n",
      "\t\t},\n",
      "\t\t'sunday': {\n",
      "\t\t\t'open',\n",
      "\t\t\t'close'\n",
      "\t\t},\n",
      "\t\t'saturday': {\n",
      "\t\t\t'open',\n",
      "\t\t\t'close'\n",
      "\t\t},\n",
      "\t\t'monday': {\n",
      "\t\t\t'open',\n",
      "\t\t\t'close'\n",
      "\t\t},\n",
      "\t\t'friday': {\n",
      "\t\t\t'open',\n",
      "\t\t\t'close'\n",
      "\t\t}\n",
      "\t},\n",
      "\t'latitude',\n",
      "\t'longitude',\n",
      "\t'name_business',\n",
      "\t'name_user',\n",
      "\t'neighborhoods',\n",
      "\t'open',\n",
      "\t'review_count_business',\n",
      "\t'review_count_user',\n",
      "\t'review_id',\n",
      "\t'stars_business',\n",
      "\t'stars_review',\n",
      "\t'state',\n",
      "\t'text',\n",
      "\t'type',\n",
      "\t'type_review',\n",
      "\t'type_user',\n",
      "\t'user_id',\n",
      "\t'votes': {\n",
      "\t\t'useful_user',\n",
      "\t\t'useful_review',\n",
      "\t\t'funny_user',\n",
      "\t\t'funny_review',\n",
      "\t\t'cool_user',\n",
      "\t\t'cool_review'',\n",
      "\t},\n",
      "\t'yelping_since'\n",
      "}\n",
      "</pre></code>"
     ]
    },
    {
     "cell_type": "markdown",
     "metadata": {},
     "source": [
      "**List Form:**\n",
      "_to access data in a dataframe_\n",
      "- attributes.accepts_credit_cards,\n",
      "- attributes.accepts_insurance,\n",
      "- attributes.ages_allowed,\n",
      "- attributes.alcohol,\n",
      "- attributes.ambience.casual,\n",
      "- attributes.ambience.classy,\n",
      "- attributes.ambience.divey,\n",
      "- attributes.ambience.hipster,\n",
      "- attributes.ambience.intimate,\n",
      "- attributes.ambience.romantic,\n",
      "- attributes.ambience.touristy,\n",
      "- attributes.ambience.trendy,\n",
      "- attributes.ambience.upscale,\n",
      "- attributes.attire,\n",
      "- attributes.by_appointment_only,\n",
      "- attributes.byob,\n",
      "- attributes.byob/corkage,\n",
      "- attributes.caters,\n",
      "- attributes.coat_check,\n",
      "- attributes.corkage,\n",
      "- attributes.delivery,\n",
      "- attributes.dietary_restrictions.dairy-free,\n",
      "- attributes.dietary_restrictions.gluten-free,\n",
      "- attributes.dietary_restrictions.halal,\n",
      "- attributes.dietary_restrictions.kosher,\n",
      "- attributes.dietary_restrictions.soy-free,\n",
      "- attributes.dietary_restrictions.vegan,\n",
      "- attributes.dietary_restrictions.vegetarian,\n",
      "- attributes.dogs_allowed,\n",
      "- attributes.drive-thru,\n",
      "- attributes.good_for.breakfast,\n",
      "- attributes.good_for.brunch,\n",
      "- attributes.good_for.dessert,\n",
      "- attributes.good_for.dinner,\n",
      "- attributes.good_for.latenight,\n",
      "- attributes.good_for.lunch,\n",
      "- attributes.good_for_dancing,\n",
      "- attributes.good_for_groups,\n",
      "- attributes.good_for_kids,\n",
      "- attributes.hair_types_specialized_in.africanamerican,\n",
      "- attributes.hair_types_specialized_in.asian,\n",
      "- attributes.hair_types_specialized_in.coloring,\n",
      "- attributes.hair_types_specialized_in.curly,\n",
      "- attributes.hair_types_specialized_in.extensions,\n",
      "- attributes.hair_types_specialized_in.kids,\n",
      "- attributes.hair_types_specialized_in.perms,\n",
      "- attributes.hair_types_specialized_in.straightperms,\n",
      "- attributes.happy_hour,\n",
      "- attributes.has_tv,\n",
      "- attributes.music.background_music,\n",
      "- attributes.music.dj,\n",
      "- attributes.music.jukebox,\n",
      "- attributes.music.karaoke,\n",
      "- attributes.music.live,\n",
      "- attributes.music.playlist,\n",
      "- attributes.music.video,\n",
      "- attributes.noise_level,\n",
      "- attributes.open_24_hours,\n",
      "- attributes.order_at_counter,\n",
      "- attributes.outdoor_seating,\n",
      "- attributes.parking.garage,\n",
      "- attributes.parking.lot,\n",
      "- attributes.parking.street,\n",
      "- attributes.parking.valet,\n",
      "- attributes.parking.validated,\n",
      "- attributes.payment_types.amex,\n",
      "- attributes.payment_types.cash_only,\n",
      "- attributes.payment_types.discover,\n",
      "- attributes.payment_types.mastercard,\n",
      "- attributes.payment_types.visa,\n",
      "- attributes.price_range,\n",
      "- attributes.smoking,\n",
      "- attributes.take-out,\n",
      "- attributes.takes_reservations,\n",
      "- attributes.waiter_service,\n",
      "- attributes.wheelchair_accessible,\n",
      "- attributes.wi-fi,\n",
      "- average_stars,\n",
      "- business_id,\n",
      "- categories,\n",
      "- compliments.cool,\n",
      "- compliments.cute,\n",
      "- compliments.funny,\n",
      "- compliments.hot,\n",
      "- compliments.list,\n",
      "- compliments.more,\n",
      "- compliments.note,\n",
      "- compliments.photos,\n",
      "- compliments.plain,\n",
      "- compliments.profile,\n",
      "- compliments.writer,\n",
      "- city,\n",
      "- date,\n",
      "- elite,\n",
      "- fans,\n",
      "- friends,\n",
      "- full_address,\n",
      "- hours.monday.close,\n",
      "- hours.monday.open,\n",
      "- hours.tuesday.close,\n",
      "- hours.tuesday.open,\n",
      "- hours.wednesday.close,\n",
      "- hours.wednesday.open,\n",
      "- hours.thursday.close,\n",
      "- hours.thursday.open,\n",
      "- hours.friday.close,\n",
      "- hours.friday.open,\n",
      "- hours.saturday.close,\n",
      "- hours.saturday.open,\n",
      "- hours.sunday.close,\n",
      "- hours.sunday.open,\n",
      "- latitude,\n",
      "- longitude,\n",
      "- name_business,\n",
      "- name_user,\n",
      "- neighborhoods,\n",
      "- open,\n",
      "- review_count_business,\n",
      "- review_count_user,\n",
      "- review_id,\n",
      "- stars_business,\n",
      "- stars_review,\n",
      "- state,\n",
      "- text,\n",
      "- type,\n",
      "- type_review,\n",
      "- type_user,\n",
      "- user_id,\n",
      "- votes.cool_review,\n",
      "- votes.funny_review,\n",
      "- votes.cool_user,\n",
      "- votes.useful_review,\n",
      "- votes.funny_user,\n",
      "- votes.useful_user,\n",
      "- yelping_since"
     ]
    },
    {
     "cell_type": "markdown",
     "metadata": {},
     "source": [
      "---"
     ]
    },
    {
     "cell_type": "markdown",
     "metadata": {},
     "source": [
      "### <a id='section2'>2. Understanding Data</a>\n",
      "Let's start understanding how each of the above fields affect ratings"
     ]
    },
    {
     "cell_type": "code",
     "collapsed": false,
     "input": [
      "business_review_user_data.ix[:, [\"date\",\n",
      "                                 \"name_user\",\n",
      "                                 \"stars_business\",\n",
      "                                 \"attributes.takes_reservations\",\n",
      "                                 \"stars_review\",\n",
      "                                 \"hours.monday.open\",\n",
      "                                 \"name_business\",\n",
      "                                 \"categories\",\n",
      "                                 \"latitude\",\n",
      "                                 \"longitude\",\n",
      "                                 \"city\",\n",
      "                                 \"votes.cool_user\",\n",
      "                                 \"votes.funny_user\",\n",
      "                                 \"votes.useful_user\",\n",
      "                                 \"text\",\n",
      "                                 \"votes.cool_review\",\n",
      "                                 \"votes.funny_review\",\n",
      "                                 \"votes.useful_review\",\n",
      "                                 \"review_count_business\"]].head()"
     ],
     "language": "python",
     "metadata": {},
     "outputs": [
      {
       "html": [
        "<div style=\"max-height:1000px;max-width:1500px;overflow:auto;\">\n",
        "<table border=\"1\" class=\"dataframe\">\n",
        "  <thead>\n",
        "    <tr style=\"text-align: right;\">\n",
        "      <th></th>\n",
        "      <th>date</th>\n",
        "      <th>name_user</th>\n",
        "      <th>stars_business</th>\n",
        "      <th>attributes.takes_reservations</th>\n",
        "      <th>stars_review</th>\n",
        "      <th>hours.monday.open</th>\n",
        "      <th>name_business</th>\n",
        "      <th>categories</th>\n",
        "      <th>latitude</th>\n",
        "      <th>longitude</th>\n",
        "      <th>city</th>\n",
        "      <th>votes.cool_user</th>\n",
        "      <th>votes.funny_user</th>\n",
        "      <th>votes.useful_user</th>\n",
        "      <th>text</th>\n",
        "      <th>votes.cool_review</th>\n",
        "      <th>votes.funny_review</th>\n",
        "      <th>votes.useful_review</th>\n",
        "      <th>review_count_business</th>\n",
        "    </tr>\n",
        "  </thead>\n",
        "  <tbody>\n",
        "    <tr>\n",
        "      <th>0</th>\n",
        "      <td> 2007-05-17</td>\n",
        "      <td>   Lily</td>\n",
        "      <td> 3.5</td>\n",
        "      <td> NaN</td>\n",
        "      <td> 5</td>\n",
        "      <td> 08:00</td>\n",
        "      <td> Eric Goldberg, MD</td>\n",
        "      <td> ['Doctors', 'Health &amp; Medical']</td>\n",
        "      <td> 33.499313</td>\n",
        "      <td> -111.983758</td>\n",
        "      <td> Phoenix</td>\n",
        "      <td>  363</td>\n",
        "      <td>  117</td>\n",
        "      <td>  462</td>\n",
        "      <td> dr. goldberg offers everything i look for in a...</td>\n",
        "      <td> 1</td>\n",
        "      <td> 0</td>\n",
        "      <td> 2</td>\n",
        "      <td> 7</td>\n",
        "    </tr>\n",
        "    <tr>\n",
        "      <th>1</th>\n",
        "      <td> 2010-03-22</td>\n",
        "      <td> Daniel</td>\n",
        "      <td> 3.5</td>\n",
        "      <td> NaN</td>\n",
        "      <td> 2</td>\n",
        "      <td> 08:00</td>\n",
        "      <td> Eric Goldberg, MD</td>\n",
        "      <td> ['Doctors', 'Health &amp; Medical']</td>\n",
        "      <td> 33.499313</td>\n",
        "      <td> -111.983758</td>\n",
        "      <td> Phoenix</td>\n",
        "      <td>    2</td>\n",
        "      <td>    1</td>\n",
        "      <td>   17</td>\n",
        "      <td> Unfortunately, the frustration of being Dr. Go...</td>\n",
        "      <td> 0</td>\n",
        "      <td> 0</td>\n",
        "      <td> 2</td>\n",
        "      <td> 7</td>\n",
        "    </tr>\n",
        "    <tr>\n",
        "      <th>2</th>\n",
        "      <td> 2012-02-14</td>\n",
        "      <td>   Bill</td>\n",
        "      <td> 3.5</td>\n",
        "      <td> NaN</td>\n",
        "      <td> 4</td>\n",
        "      <td> 08:00</td>\n",
        "      <td> Eric Goldberg, MD</td>\n",
        "      <td> ['Doctors', 'Health &amp; Medical']</td>\n",
        "      <td> 33.499313</td>\n",
        "      <td> -111.983758</td>\n",
        "      <td> Phoenix</td>\n",
        "      <td> 1191</td>\n",
        "      <td> 1892</td>\n",
        "      <td> 2152</td>\n",
        "      <td> Dr. Goldberg has been my doctor for years and ...</td>\n",
        "      <td> 1</td>\n",
        "      <td> 0</td>\n",
        "      <td> 1</td>\n",
        "      <td> 7</td>\n",
        "    </tr>\n",
        "    <tr>\n",
        "      <th>3</th>\n",
        "      <td> 2012-05-15</td>\n",
        "      <td>   Bill</td>\n",
        "      <td> 3.5</td>\n",
        "      <td> NaN</td>\n",
        "      <td> 4</td>\n",
        "      <td> 08:00</td>\n",
        "      <td> Eric Goldberg, MD</td>\n",
        "      <td> ['Doctors', 'Health &amp; Medical']</td>\n",
        "      <td> 33.499313</td>\n",
        "      <td> -111.983758</td>\n",
        "      <td> Phoenix</td>\n",
        "      <td> 1191</td>\n",
        "      <td> 1892</td>\n",
        "      <td> 2152</td>\n",
        "      <td> Got a letter in the mail last week that said D...</td>\n",
        "      <td> 1</td>\n",
        "      <td> 0</td>\n",
        "      <td> 2</td>\n",
        "      <td> 7</td>\n",
        "    </tr>\n",
        "    <tr>\n",
        "      <th>4</th>\n",
        "      <td> 2012-03-02</td>\n",
        "      <td>  Sweet</td>\n",
        "      <td> 3.5</td>\n",
        "      <td> NaN</td>\n",
        "      <td> 4</td>\n",
        "      <td> 08:00</td>\n",
        "      <td> Eric Goldberg, MD</td>\n",
        "      <td> ['Doctors', 'Health &amp; Medical']</td>\n",
        "      <td> 33.499313</td>\n",
        "      <td> -111.983758</td>\n",
        "      <td> Phoenix</td>\n",
        "      <td>    1</td>\n",
        "      <td>    4</td>\n",
        "      <td>   12</td>\n",
        "      <td> Been going to Dr. Goldberg for over 10 years. ...</td>\n",
        "      <td> 0</td>\n",
        "      <td> 0</td>\n",
        "      <td> 0</td>\n",
        "      <td> 7</td>\n",
        "    </tr>\n",
        "  </tbody>\n",
        "</table>\n",
        "<p>5 rows \u00d7 19 columns</p>\n",
        "</div>"
       ],
       "metadata": {},
       "output_type": "pyout",
       "prompt_number": 14,
       "text": [
        "         date name_user stars_business attributes.takes_reservations  \\\n",
        "0  2007-05-17      Lily            3.5                           NaN   \n",
        "1  2010-03-22    Daniel            3.5                           NaN   \n",
        "2  2012-02-14      Bill            3.5                           NaN   \n",
        "3  2012-05-15      Bill            3.5                           NaN   \n",
        "4  2012-03-02     Sweet            3.5                           NaN   \n",
        "\n",
        "   stars_review hours.monday.open      name_business  \\\n",
        "0             5             08:00  Eric Goldberg, MD   \n",
        "1             2             08:00  Eric Goldberg, MD   \n",
        "2             4             08:00  Eric Goldberg, MD   \n",
        "3             4             08:00  Eric Goldberg, MD   \n",
        "4             4             08:00  Eric Goldberg, MD   \n",
        "\n",
        "                        categories   latitude    longitude     city  \\\n",
        "0  ['Doctors', 'Health & Medical']  33.499313  -111.983758  Phoenix   \n",
        "1  ['Doctors', 'Health & Medical']  33.499313  -111.983758  Phoenix   \n",
        "2  ['Doctors', 'Health & Medical']  33.499313  -111.983758  Phoenix   \n",
        "3  ['Doctors', 'Health & Medical']  33.499313  -111.983758  Phoenix   \n",
        "4  ['Doctors', 'Health & Medical']  33.499313  -111.983758  Phoenix   \n",
        "\n",
        "   votes.cool_user  votes.funny_user  votes.useful_user  \\\n",
        "0              363               117                462   \n",
        "1                2                 1                 17   \n",
        "2             1191              1892               2152   \n",
        "3             1191              1892               2152   \n",
        "4                1                 4                 12   \n",
        "\n",
        "                                                text  votes.cool_review  \\\n",
        "0  dr. goldberg offers everything i look for in a...                  1   \n",
        "1  Unfortunately, the frustration of being Dr. Go...                  0   \n",
        "2  Dr. Goldberg has been my doctor for years and ...                  1   \n",
        "3  Got a letter in the mail last week that said D...                  1   \n",
        "4  Been going to Dr. Goldberg for over 10 years. ...                  0   \n",
        "\n",
        "   votes.funny_review  votes.useful_review review_count_business  \n",
        "0                   0                    2                     7  \n",
        "1                   0                    2                     7  \n",
        "2                   0                    1                     7  \n",
        "3                   0                    2                     7  \n",
        "4                   0                    0                     7  \n",
        "\n",
        "[5 rows x 19 columns]"
       ]
      }
     ],
     "prompt_number": 14
    },
    {
     "cell_type": "code",
     "collapsed": false,
     "input": [
      "for column in business_review_user_data.columns:\n",
      "    if 'attributes' in column:\n",
      "        print '%55s'%column, '\\t',business_review_user_data[column].unique()"
     ],
     "language": "python",
     "metadata": {},
     "outputs": [
      {
       "output_type": "stream",
       "stream": "stdout",
       "text": [
        "                              attributes.ambience.divey \t[nan 'False' 'True']\n",
        "                  attributes.dietary_restrictions.vegan \t[nan 'False' 'True']"
       ]
      },
      {
       "output_type": "stream",
       "stream": "stdout",
       "text": [
        "\n",
        "                                  attributes.happy_hour \t[nan 'True' 'False']\n",
        "                            attributes.order_at_counter \t[nan 'False' 'True']"
       ]
      },
      {
       "output_type": "stream",
       "stream": "stdout",
       "text": [
        "\n",
        "   attributes.hair_types_specialized_in.africanamerican \t[nan 'True' 'False']\n",
        "              attributes.hair_types_specialized_in.kids \t[nan 'True' 'False']"
       ]
      },
      {
       "output_type": "stream",
       "stream": "stdout",
       "text": [
        "\n",
        "                                        attributes.byob \t[nan 'False' 'True']\n",
        "                             attributes.outdoor_seating \t[nan 'True' 'False']"
       ]
      },
      {
       "output_type": "stream",
       "stream": "stdout",
       "text": [
        "\n",
        "                                     attributes.alcohol \t[nan 'full_bar' 'none' 'beer_and_wine']"
       ]
      },
      {
       "output_type": "stream",
       "stream": "stdout",
       "text": [
        "\n",
        "                             attributes.ambience.classy \t[nan 'True' 'False']\n",
        "                    attributes.payment_types.mastercard \t[nan 'True' 'False']"
       ]
      },
      {
       "output_type": "stream",
       "stream": "stdout",
       "text": [
        "\n",
        "                                 attributes.parking.lot \t[nan 'False' 'True']"
       ]
      },
      {
       "output_type": "stream",
       "stream": "stdout",
       "text": [
        "\n",
        "                           attributes.ambience.touristy \t[nan 'False' 'True']\n",
        "                                     attributes.corkage \t[nan 'True' 'False']"
       ]
      },
      {
       "output_type": "stream",
       "stream": "stdout",
       "text": [
        "\n",
        "                             attributes.good_for.brunch \t[nan 'False' 'True']\n",
        "                          attributes.payment_types.amex \t[nan 'True' 'False']"
       ]
      },
      {
       "output_type": "stream",
       "stream": "stdout",
       "text": [
        "\n",
        "                              attributes.waiter_service \t[nan 'True' 'False']\n",
        "                              attributes.parking.street \t[nan 'False' 'True']"
       ]
      },
      {
       "output_type": "stream",
       "stream": "stdout",
       "text": [
        "\n",
        "                            attributes.ambience.hipster \t[nan 'False' 'True']\n",
        "                                attributes.byob/corkage \t[nan 'yes_corkage' 'no' 'yes_free']"
       ]
      },
      {
       "output_type": "stream",
       "stream": "stdout",
       "text": [
        "\n",
        "     attributes.hair_types_specialized_in.straightperms \t[nan 'True' 'False']\n",
        "                                  attributes.music.live \t[nan 'False' 'True']"
       ]
      },
      {
       "output_type": "stream",
       "stream": "stdout",
       "text": [
        "\n",
        "             attributes.dietary_restrictions.dairy-free \t[nan 'False' 'True']\n",
        "                      attributes.music.background_music \t[nan 'True' 'False']"
       ]
      },
      {
       "output_type": "stream",
       "stream": "stdout",
       "text": [
        "\n",
        "                                 attributes.price_range \t[nan '2' '3' '4' '1']\n",
        "                          attributes.good_for.breakfast \t[nan 'False' 'True']"
       ]
      },
      {
       "output_type": "stream",
       "stream": "stdout",
       "text": [
        "\n",
        "                              attributes.parking.garage \t[nan 'True' 'False']"
       ]
      },
      {
       "output_type": "stream",
       "stream": "stdout",
       "text": [
        "\n",
        "                               attributes.music.karaoke \t[nan 'False' 'True']\n",
        "                            attributes.good_for_dancing \t[nan 'False' 'True']"
       ]
      },
      {
       "output_type": "stream",
       "stream": "stdout",
       "text": [
        "\n",
        "             attributes.hair_types_specialized_in.asian \t[nan 'True' 'False']\n",
        "                        attributes.accepts_credit_cards \t[nan 'True' 'False' '{}']"
       ]
      },
      {
       "output_type": "stream",
       "stream": "stdout",
       "text": [
        "\n",
        "                              attributes.good_for.lunch \t[nan 'False' 'True']\n",
        "                               attributes.parking.valet \t[nan 'True' 'False']"
       ]
      },
      {
       "output_type": "stream",
       "stream": "stdout",
       "text": [
        "\n",
        "                                    attributes.take-out \t[nan 'True' 'False']\n",
        "          attributes.hair_types_specialized_in.coloring \t[nan 'True' 'False']"
       ]
      },
      {
       "output_type": "stream",
       "stream": "stdout",
       "text": [
        "\n",
        "                     attributes.payment_types.cash_only \t[nan 'False' 'True']\n",
        "                            attributes.good_for.dessert \t[nan 'False' 'True']"
       ]
      },
      {
       "output_type": "stream",
       "stream": "stdout",
       "text": [
        "\n",
        "                                 attributes.music.video \t[nan 'True' 'False']\n",
        "                  attributes.dietary_restrictions.halal \t[nan 'False' 'True']"
       ]
      },
      {
       "output_type": "stream",
       "stream": "stdout",
       "text": [
        "\n",
        "                          attributes.takes_reservations \t[nan 'True' 'False']"
       ]
      },
      {
       "output_type": "stream",
       "stream": "stdout",
       "text": [
        "\n",
        "                                attributes.ages_allowed \t[nan '21plus' '18plus' 'allages']\n",
        "                             attributes.ambience.trendy \t[nan 'False' 'True']"
       ]
      },
      {
       "output_type": "stream",
       "stream": "stdout",
       "text": [
        "\n",
        "                                    attributes.delivery \t[nan 'False' 'True']\n",
        "                                       attributes.wi-fi \t[nan 'free' 'paid' 'no']"
       ]
      },
      {
       "output_type": "stream",
       "stream": "stdout",
       "text": [
        "\n",
        "                      attributes.payment_types.discover \t[nan 'True' 'False']\n",
        "                       attributes.wheelchair_accessible \t[nan 'True' 'False']"
       ]
      },
      {
       "output_type": "stream",
       "stream": "stdout",
       "text": [
        "\n",
        "            attributes.dietary_restrictions.gluten-free \t[nan 'False' 'True']\n",
        "                          attributes.payment_types.visa \t[nan 'True' 'False']"
       ]
      },
      {
       "output_type": "stream",
       "stream": "stdout",
       "text": [
        "\n",
        "                                      attributes.caters \t[nan 'False' 'True']\n",
        "                           attributes.ambience.intimate \t[nan 'False' 'True']"
       ]
      },
      {
       "output_type": "stream",
       "stream": "stdout",
       "text": [
        "\n",
        "                              attributes.music.playlist \t[nan 'True' 'False']\n",
        "                          attributes.good_for.latenight \t[nan 'True' 'False']"
       ]
      },
      {
       "output_type": "stream",
       "stream": "stdout",
       "text": [
        "\n",
        "                             attributes.good_for.dinner \t[nan 'False' 'True']\n",
        "                                  attributes.coat_check \t[nan 'False' 'True']"
       ]
      },
      {
       "output_type": "stream",
       "stream": "stdout",
       "text": [
        "\n",
        "        attributes.hair_types_specialized_in.extensions \t[nan 'True' 'False']\n",
        "                               attributes.good_for_kids \t[nan 'False' 'True']"
       ]
      },
      {
       "output_type": "stream",
       "stream": "stdout",
       "text": [
        "\n",
        "                           attributes.parking.validated \t[nan 'False' 'True']\n",
        "                           attributes.accepts_insurance \t[nan 'True' 'False']"
       ]
      },
      {
       "output_type": "stream",
       "stream": "stdout",
       "text": [
        "\n",
        "                                    attributes.music.dj \t[nan 'False' 'True']\n",
        "               attributes.dietary_restrictions.soy-free \t[nan 'False' 'True']"
       ]
      },
      {
       "output_type": "stream",
       "stream": "stdout",
       "text": [
        "\n",
        "                                      attributes.has_tv \t[nan 'False' 'True']\n",
        "                             attributes.ambience.casual \t[nan 'False' 'True']"
       ]
      },
      {
       "output_type": "stream",
       "stream": "stdout",
       "text": [
        "\n",
        "                         attributes.by_appointment_only \t['True' nan 'False']\n",
        "                 attributes.dietary_restrictions.kosher \t[nan 'True' 'False']"
       ]
      },
      {
       "output_type": "stream",
       "stream": "stdout",
       "text": [
        "\n",
        "                                attributes.dogs_allowed \t[nan 'False' 'True']\n",
        "                                  attributes.drive-thru \t[nan 'False' 'True']"
       ]
      },
      {
       "output_type": "stream",
       "stream": "stdout",
       "text": [
        "\n",
        "             attributes.dietary_restrictions.vegetarian \t[nan 'False' 'True']\n",
        "                                 attributes.noise_level \t[nan 'average' 'loud' 'very_loud' 'quiet']"
       ]
      },
      {
       "output_type": "stream",
       "stream": "stdout",
       "text": [
        "\n",
        "                                     attributes.smoking \t[nan 'outdoor' 'no' 'yes']\n",
        "                                      attributes.attire \t[nan 'casual' 'dressy' 'formal']"
       ]
      },
      {
       "output_type": "stream",
       "stream": "stdout",
       "text": [
        "\n",
        "             attributes.hair_types_specialized_in.curly \t[nan 'True' 'False']\n",
        "                             attributes.good_for_groups \t[nan 'True' 'False']"
       ]
      },
      {
       "output_type": "stream",
       "stream": "stdout",
       "text": [
        "\n",
        "                               attributes.open_24_hours \t[nan 'False' 'True']\n",
        "                           attributes.ambience.romantic \t[nan 'False' 'True']"
       ]
      },
      {
       "output_type": "stream",
       "stream": "stdout",
       "text": [
        "\n",
        "             attributes.hair_types_specialized_in.perms \t[nan 'True' 'False']\n",
        "                               attributes.music.jukebox \t[nan 'False' 'True']"
       ]
      },
      {
       "output_type": "stream",
       "stream": "stdout",
       "text": [
        "\n",
        "                            attributes.ambience.upscale \t[nan 'False' 'True']"
       ]
      },
      {
       "output_type": "stream",
       "stream": "stdout",
       "text": [
        "\n"
       ]
      }
     ],
     "prompt_number": 15
    },
    {
     "cell_type": "code",
     "collapsed": false,
     "input": [
      "def plotStarsHistogram(colName):\n",
      "    fullDF = business_review_user_data.ix[:,[colName,'stars_review']].head(100000)\n",
      "    trueDF = fullDF[fullDF[colName].isin(['True'])]\n",
      "    falseDF = fullDF[fullDF[colName].isin(['False'])]\n",
      "    fig, ax = plt.subplots()\n",
      "    ax.set_title(colName)\n",
      "    ax.set_xlabel('Rating in Stars')\n",
      "    ax.set_ylabel('Normalized Frequency')\n",
      "    bins = 5\n",
      "    n, bins, patches = ax.hist([trueDF['stars_review'],falseDF['stars_review']], bins, histtype='bar',  color=['blue','green'], \n",
      "                                label=['True','False'],rwidth=0.3)\n",
      "    leg = ax.legend(loc='upper left')\n",
      "    plt.show()\n"
     ],
     "language": "python",
     "metadata": {},
     "outputs": [],
     "prompt_number": 16
    },
    {
     "cell_type": "code",
     "collapsed": false,
     "input": [
      "def calculateCorrelation(colName):\n",
      "    fullDF = business_review_user_data.ix[:,[colName,'stars_review']].head(100000)\n",
      "    trueDF = fullDF[fullDF[colName].isin(['True'])]\n",
      "    falseDF = fullDF[fullDF[colName].isin(['False'])]\n",
      "    positiveRating = 4\n",
      "    trueHigh = len(trueDF[trueDF['stars_review'] >= positiveRating])\n",
      "    trueLow = len(trueDF[trueDF['stars_review'] < positiveRating])\n",
      "    falseHigh = len(falseDF[falseDF['stars_review'] >= positiveRating])\n",
      "    falseLow = len(falseDF[falseDF['stars_review'] < positiveRating])\n",
      "    #print (trueHigh+falseLow)\n",
      "    totalSamples = trueHigh+trueLow+falseHigh+falseLow\n",
      "    print \"Statistics for Column\",colName\n",
      "    print \"Total number of Samples are\", totalSamples\n",
      "    print \"Total number of True-High Samples are\", trueHigh\n",
      "    print \"Total number of True-Low Samples are\", trueLow\n",
      "    print \"Total number of False-High Samples are\", falseHigh\n",
      "    print \"Total number of False-Low Samples are\", falseLow\n",
      "    print \"Percentage correlation between:\",colName,\"and review stars is\",100*(trueHigh+falseLow)/totalSamples,\"%\"\n",
      "    print \"-------------------------------------------------------\""
     ],
     "language": "python",
     "metadata": {},
     "outputs": [],
     "prompt_number": 17
    },
    {
     "cell_type": "code",
     "collapsed": false,
     "input": [
      "plotStarsHistogram('attributes.takes_reservations')\n",
      "plotStarsHistogram('attributes.drive-thru')\n",
      "plotStarsHistogram('attributes.delivery')"
     ],
     "language": "python",
     "metadata": {},
     "outputs": [
      {
       "metadata": {},
       "output_type": "display_data",
       "png": "[encoded data removed]",
       "text": [
        "<matplotlib.figure.Figure at 0x116bdabd0>"
       ]
      },
      {
       "metadata": {},
       "output_type": "display_data",
       "png": "[encoded data removed]",
       "text": [
        "<matplotlib.figure.Figure at 0x11741e090>"
       ]
      },
      {
       "metadata": {},
       "output_type": "display_data",
       "png": "[encoded data removed]",
       "text": [
        "<matplotlib.figure.Figure at 0x116bc5a50>"
       ]
      }
     ],
     "prompt_number": 18
    },
    {
     "cell_type": "code",
     "collapsed": false,
     "input": [
      "for column in business_review_user_data.columns:\n",
      "    if 'attributes' in column and 'True' in business_review_user_data[column].unique():\n",
      "        calculateCorrelation(column)"
     ],
     "language": "python",
     "metadata": {},
     "outputs": [
      {
       "output_type": "stream",
       "stream": "stdout",
       "text": [
        "Statistics for Column attributes.ambience.divey\n",
        "Total number of Samples are 77602\n",
        "Total number of True-High Samples are 1236\n",
        "Total number of True-Low Samples are 911\n",
        "Total number of False-High Samples are 49929\n",
        "Total number of False-Low Samples are 25526\n",
        "Percentage correlation between: attributes.ambience.divey and review stars is 34 %\n",
        "-------------------------------------------------------\n",
        "Statistics for Column"
       ]
      },
      {
       "output_type": "stream",
       "stream": "stdout",
       "text": [
        " attributes.dietary_restrictions.vegan\n",
        "Total number of Samples are 582\n",
        "Total number of True-High Samples are 0\n",
        "Total number of True-Low Samples are 0\n",
        "Total number of False-High Samples are 418\n",
        "Total number of False-Low Samples are 164\n",
        "Percentage correlation between: attributes.dietary_restrictions.vegan and review stars is 28 %\n",
        "-------------------------------------------------------\n",
        "Statistics for Column"
       ]
      },
      {
       "output_type": "stream",
       "stream": "stdout",
       "text": [
        " attributes.happy_hour\n",
        "Total number of Samples are 19754\n",
        "Total number of True-High Samples are 9462\n",
        "Total number of True-Low Samples are 4867\n",
        "Total number of False-High Samples are 3443\n",
        "Total number of False-Low Samples are 1982\n",
        "Percentage correlation between: attributes.happy_hour and review stars is 57 %\n",
        "-------------------------------------------------------\n",
        "Statistics for Column"
       ]
      },
      {
       "output_type": "stream",
       "stream": "stdout",
       "text": [
        " attributes.order_at_counter\n",
        "Total number of Samples are 13554\n",
        "Total number of True-High Samples are 2815\n",
        "Total number of True-Low Samples are 1282\n",
        "Total number of False-High Samples are 6371\n",
        "Total number of False-Low Samples are 3086\n",
        "Percentage correlation between: attributes.order_at_counter and review stars is 43 %\n",
        "-------------------------------------------------------\n",
        "Statistics for Column"
       ]
      },
      {
       "output_type": "stream",
       "stream": "stdout",
       "text": [
        " attributes.hair_types_specialized_in.africanamerican\n",
        "Total number of Samples are 123\n",
        "Total number of True-High Samples are 22\n",
        "Total number of True-Low Samples are 2\n",
        "Total number of False-High Samples are 82\n",
        "Total number of False-Low Samples are 17\n",
        "Percentage correlation between: attributes.hair_types_specialized_in.africanamerican and review stars is 31 %\n",
        "-------------------------------------------------------\n",
        "Statistics for Column"
       ]
      },
      {
       "output_type": "stream",
       "stream": "stdout",
       "text": [
        " attributes.hair_types_specialized_in.kids\n",
        "Total number of Samples are 123\n",
        "Total number of True-High Samples are 22\n",
        "Total number of True-Low Samples are 2\n",
        "Total number of False-High Samples are 82\n",
        "Total number of False-Low Samples are 17\n",
        "Percentage correlation between: attributes.hair_types_specialized_in.kids and review stars is 31 %\n",
        "-------------------------------------------------------\n",
        "Statistics for Column"
       ]
      },
      {
       "output_type": "stream",
       "stream": "stdout",
       "text": [
        " attributes.byob\n",
        "Total number of Samples are 26828\n",
        "Total number of True-High Samples are 517\n",
        "Total number of True-Low Samples are 255\n",
        "Total number of False-High Samples are 17846\n",
        "Total number of False-Low Samples are 8210\n",
        "Percentage correlation between: attributes.byob and review stars is 32 %\n",
        "-------------------------------------------------------\n",
        "Statistics for Column"
       ]
      },
      {
       "output_type": "stream",
       "stream": "stdout",
       "text": [
        " attributes.outdoor_seating\n",
        "Total number of Samples are 81751\n",
        "Total number of True-High Samples are 31092\n",
        "Total number of True-Low Samples are 14765\n",
        "Total number of False-High Samples are 22927\n",
        "Total number of False-Low Samples are 12967\n",
        "Percentage correlation between: attributes.outdoor_seating and review stars is 53 %\n",
        "-------------------------------------------------------\n",
        "Statistics for Column"
       ]
      },
      {
       "output_type": "stream",
       "stream": "stdout",
       "text": [
        " attributes.ambience.classy\n",
        "Total number of Samples are 77602\n",
        "Total number of True-High Samples are 6097\n",
        "Total number of True-Low Samples are 1930\n",
        "Total number of False-High Samples are 45068\n",
        "Total number of False-Low Samples are 24507\n",
        "Percentage correlation between: attributes.ambience.classy and review stars is 39 %\n",
        "-------------------------------------------------------\n",
        "Statistics for Column"
       ]
      },
      {
       "output_type": "stream",
       "stream": "stdout",
       "text": [
        " attributes.payment_types.mastercard\n",
        "Total number of Samples are 1708\n",
        "Total number of True-High Samples are 1138\n",
        "Total number of True-Low Samples are 570\n",
        "Total number of False-High Samples are 0\n",
        "Total number of False-Low Samples are 0\n",
        "Percentage correlation between: attributes.payment_types.mastercard and review stars is 66 %\n",
        "-------------------------------------------------------\n",
        "Statistics for Column"
       ]
      },
      {
       "output_type": "stream",
       "stream": "stdout",
       "text": [
        " attributes.parking.lot\n",
        "Total number of Samples are 88272\n",
        "Total number of True-High Samples are 19413\n",
        "Total number of True-Low Samples are 8747\n",
        "Total number of False-High Samples are 39384\n",
        "Total number of False-Low Samples are 20728\n",
        "Percentage correlation between: attributes.parking.lot and review stars is 45 %\n",
        "-------------------------------------------------------\n",
        "Statistics for Column"
       ]
      },
      {
       "output_type": "stream",
       "stream": "stdout",
       "text": [
        " attributes.ambience.touristy\n",
        "Total number of Samples are 77602\n",
        "Total number of True-High Samples are 2475\n",
        "Total number of True-Low Samples are 1857\n",
        "Total number of False-High Samples are 48690\n",
        "Total number of False-Low Samples are 24580\n",
        "Percentage correlation between: attributes.ambience.touristy and review stars is 34 %\n",
        "-------------------------------------------------------\n",
        "Statistics for Column"
       ]
      },
      {
       "output_type": "stream",
       "stream": "stdout",
       "text": [
        " attributes.corkage\n",
        "Total number of Samples are 22919\n",
        "Total number of True-High Samples are 6749\n",
        "Total number of True-Low Samples are 2378\n",
        "Total number of False-High Samples are 8987\n",
        "Total number of False-Low Samples are 4805\n",
        "Percentage correlation between: attributes.corkage and review stars is 50 %\n",
        "-------------------------------------------------------\n",
        "Statistics for Column"
       ]
      },
      {
       "output_type": "stream",
       "stream": "stdout",
       "text": [
        " attributes.good_for.brunch\n",
        "Total number of Samples are 75911\n",
        "Total number of True-High Samples are 6051\n",
        "Total number of True-Low Samples are 2223\n",
        "Total number of False-High Samples are 44108\n",
        "Total number of False-Low Samples are 23529\n",
        "Percentage correlation between: attributes.good_for.brunch and review stars is 38 %\n",
        "-------------------------------------------------------\n",
        "Statistics for Column"
       ]
      },
      {
       "output_type": "stream",
       "stream": "stdout",
       "text": [
        " attributes.payment_types.amex\n",
        "Total number of Samples are 1708\n",
        "Total number of True-High Samples are 831\n",
        "Total number of True-Low Samples are 189\n",
        "Total number of False-High Samples are 307\n",
        "Total number of False-Low Samples are 381\n",
        "Percentage correlation between: attributes.payment_types.amex and review stars is 70 %\n",
        "-------------------------------------------------------\n",
        "Statistics for Column"
       ]
      },
      {
       "output_type": "stream",
       "stream": "stdout",
       "text": [
        " attributes.waiter_service\n",
        "Total number of Samples are 75792\n",
        "Total number of True-High Samples are 43886\n",
        "Total number of True-Low Samples are 23206\n",
        "Total number of False-High Samples are 6141\n",
        "Total number of False-Low Samples are 2559\n",
        "Percentage correlation between: attributes.waiter_service and review stars is 61 %\n",
        "-------------------------------------------------------\n",
        "Statistics for Column"
       ]
      },
      {
       "output_type": "stream",
       "stream": "stdout",
       "text": [
        " attributes.parking.street\n",
        "Total number of Samples are 88272\n",
        "Total number of True-High Samples are 13502\n",
        "Total number of True-Low Samples are 5388\n",
        "Total number of False-High Samples are 45295\n",
        "Total number of False-Low Samples are 24087\n",
        "Percentage correlation between: attributes.parking.street and review stars is 42 %\n",
        "-------------------------------------------------------\n",
        "Statistics for Column"
       ]
      },
      {
       "output_type": "stream",
       "stream": "stdout",
       "text": [
        " attributes.ambience.hipster\n",
        "Total number of Samples are 77602\n",
        "Total number of True-High Samples are 1995\n",
        "Total number of True-Low Samples are 917\n",
        "Total number of False-High Samples are 49170\n",
        "Total number of False-Low Samples are 25520\n",
        "Percentage correlation between: attributes.ambience.hipster and review stars is 35 %\n",
        "-------------------------------------------------------\n",
        "Statistics for Column"
       ]
      },
      {
       "output_type": "stream",
       "stream": "stdout",
       "text": [
        " attributes.hair_types_specialized_in.straightperms\n",
        "Total number of Samples are 123\n",
        "Total number of True-High Samples are 22\n",
        "Total number of True-Low Samples are 2\n",
        "Total number of False-High Samples are 82\n",
        "Total number of False-Low Samples are 17\n",
        "Percentage correlation between: attributes.hair_types_specialized_in.straightperms and review stars is 31 %\n",
        "-------------------------------------------------------\n",
        "Statistics for Column"
       ]
      },
      {
       "output_type": "stream",
       "stream": "stdout",
       "text": [
        " attributes.music.live\n",
        "Total number of Samples are 19441\n",
        "Total number of True-High Samples are 2134\n",
        "Total number of True-Low Samples are 1079\n",
        "Total number of False-High Samples are 10497\n",
        "Total number of False-Low Samples are 5731\n",
        "Percentage correlation between: attributes.music.live and review stars is 40 %\n",
        "-------------------------------------------------------\n",
        "Statistics for Column"
       ]
      },
      {
       "output_type": "stream",
       "stream": "stdout",
       "text": [
        " attributes.dietary_restrictions.dairy-free\n",
        "Total number of Samples are 582\n",
        "Total number of True-High Samples are 0\n",
        "Total number of True-Low Samples are 0\n",
        "Total number of False-High Samples are 418\n",
        "Total number of False-Low Samples are 164\n",
        "Percentage correlation between: attributes.dietary_restrictions.dairy-free and review stars is 28 %\n",
        "-------------------------------------------------------\n",
        "Statistics for Column"
       ]
      },
      {
       "output_type": "stream",
       "stream": "stdout",
       "text": [
        " attributes.music.background_music\n",
        "Total number of Samples are 10690\n",
        "Total number of True-High Samples are 6414\n",
        "Total number of True-Low Samples are 2546\n",
        "Total number of False-High Samples are 963\n",
        "Total number of False-Low Samples are 767\n",
        "Percentage correlation between: attributes.music.background_music and review stars is 67 %\n",
        "-------------------------------------------------------\n",
        "Statistics for Column"
       ]
      },
      {
       "output_type": "stream",
       "stream": "stdout",
       "text": [
        " attributes.good_for.breakfast\n",
        "Total number of Samples are 75943\n",
        "Total number of True-High Samples are 6286\n",
        "Total number of True-Low Samples are 2789\n",
        "Total number of False-High Samples are 43892\n",
        "Total number of False-Low Samples are 22976\n",
        "Percentage correlation between: attributes.good_for.breakfast and review stars is 38 %\n",
        "-------------------------------------------------------\n",
        "Statistics for Column"
       ]
      },
      {
       "output_type": "stream",
       "stream": "stdout",
       "text": [
        " attributes.parking.garage\n",
        "Total number of Samples are 88281\n",
        "Total number of True-High Samples are 29500\n",
        "Total number of True-Low Samples are 16599\n",
        "Total number of False-High Samples are 29301\n",
        "Total number of False-Low Samples are 12881\n",
        "Percentage correlation between: attributes.parking.garage and review stars is 48 %\n",
        "-------------------------------------------------------\n",
        "Statistics for Column"
       ]
      },
      {
       "output_type": "stream",
       "stream": "stdout",
       "text": [
        " attributes.music.karaoke\n",
        "Total number of Samples are 10690\n",
        "Total number of True-High Samples are 7\n",
        "Total number of True-Low Samples are 0\n",
        "Total number of False-High Samples are 7370\n",
        "Total number of False-Low Samples are 3313\n",
        "Percentage correlation between: attributes.music.karaoke and review stars is 31 %\n",
        "-------------------------------------------------------\n",
        "Statistics for Column"
       ]
      },
      {
       "output_type": "stream",
       "stream": "stdout",
       "text": [
        " attributes.good_for_dancing\n",
        "Total number of Samples are 19175\n",
        "Total number of True-High Samples are 3195\n",
        "Total number of True-Low Samples are 2226\n",
        "Total number of False-High Samples are 9344\n",
        "Total number of False-Low Samples are 4410\n",
        "Percentage correlation between: attributes.good_for_dancing and review stars is 39 %\n",
        "-------------------------------------------------------\n",
        "Statistics for Column"
       ]
      },
      {
       "output_type": "stream",
       "stream": "stdout",
       "text": [
        " attributes.hair_types_specialized_in.asian\n",
        "Total number of Samples are 123\n",
        "Total number of True-High Samples are 22\n",
        "Total number of True-Low Samples are 2\n",
        "Total number of False-High Samples are 82\n",
        "Total number of False-Low Samples are 17\n",
        "Percentage correlation between: attributes.hair_types_specialized_in.asian and review stars is 31 %\n",
        "-------------------------------------------------------\n",
        "Statistics for Column"
       ]
      },
      {
       "output_type": "stream",
       "stream": "stdout",
       "text": [
        " attributes.accepts_credit_cards\n",
        "Total number of Samples are 94947\n",
        "Total number of True-High Samples are 60670\n",
        "Total number of True-Low Samples are 31926\n",
        "Total number of False-High Samples are 1720\n",
        "Total number of False-Low Samples are 631\n",
        "Percentage correlation between: attributes.accepts_credit_cards and review stars is 64 %\n",
        "-------------------------------------------------------\n",
        "Statistics for Column"
       ]
      },
      {
       "output_type": "stream",
       "stream": "stdout",
       "text": [
        " attributes.good_for.lunch\n",
        "Total number of Samples are 75943\n",
        "Total number of True-High Samples are 18409\n",
        "Total number of True-Low Samples are 10273\n",
        "Total number of False-High Samples are 31769\n",
        "Total number of False-Low Samples are 15492\n",
        "Percentage correlation between: attributes.good_for.lunch and review stars is 44 %\n",
        "-------------------------------------------------------\n",
        "Statistics for Column"
       ]
      },
      {
       "output_type": "stream",
       "stream": "stdout",
       "text": [
        " attributes.parking.valet\n",
        "Total number of Samples are 88283\n",
        "Total number of True-High Samples are 19817\n",
        "Total number of True-Low Samples are 10343\n",
        "Total number of False-High Samples are 38991\n",
        "Total number of False-Low Samples are 19132\n",
        "Percentage correlation between: attributes.parking.valet and review stars is 44 %\n",
        "-------------------------------------------------------\n",
        "Statistics for Column"
       ]
      },
      {
       "output_type": "stream",
       "stream": "stdout",
       "text": [
        " attributes.take-out\n",
        "Total number of Samples are 75953\n",
        "Total number of True-High Samples are 35077\n",
        "Total number of True-Low Samples are 17342\n",
        "Total number of False-High Samples are 15059\n",
        "Total number of False-Low Samples are 8475\n",
        "Percentage correlation between: attributes.take-out and review stars is 57 %\n",
        "-------------------------------------------------------\n",
        "Statistics for Column"
       ]
      },
      {
       "output_type": "stream",
       "stream": "stdout",
       "text": [
        " attributes.hair_types_specialized_in.coloring\n",
        "Total number of Samples are 123\n",
        "Total number of True-High Samples are 100\n",
        "Total number of True-Low Samples are 19\n",
        "Total number of False-High Samples are 4\n",
        "Total number of False-Low Samples are 0\n",
        "Percentage correlation between: attributes.hair_types_specialized_in.coloring and review stars is 81 %\n",
        "-------------------------------------------------------\n",
        "Statistics for Column"
       ]
      },
      {
       "output_type": "stream",
       "stream": "stdout",
       "text": [
        " attributes.payment_types.cash_only\n",
        "Total number of Samples are 1708\n",
        "Total number of True-High Samples are 0\n",
        "Total number of True-Low Samples are 0\n",
        "Total number of False-High Samples are 1138\n",
        "Total number of False-Low Samples are 570\n",
        "Percentage correlation between: attributes.payment_types.cash_only and review stars is 33 %\n",
        "-------------------------------------------------------\n",
        "Statistics for Column"
       ]
      },
      {
       "output_type": "stream",
       "stream": "stdout",
       "text": [
        " attributes.good_for.dessert\n",
        "Total number of Samples are 75911\n",
        "Total number of True-High Samples are 2370\n",
        "Total number of True-Low Samples are 1058\n",
        "Total number of False-High Samples are 47789\n",
        "Total number of False-Low Samples are 24694\n",
        "Percentage correlation between: attributes.good_for.dessert and review stars is 35 %\n",
        "-------------------------------------------------------\n",
        "Statistics for Column"
       ]
      },
      {
       "output_type": "stream",
       "stream": "stdout",
       "text": [
        " attributes.music.video\n",
        "Total number of Samples are 18041\n",
        "Total number of True-High Samples are 363\n",
        "Total number of True-Low Samples are 336\n",
        "Total number of False-High Samples are 11394\n",
        "Total number of False-Low Samples are 5948\n",
        "Percentage correlation between: attributes.music.video and review stars is 34 %\n",
        "-------------------------------------------------------\n",
        "Statistics for Column"
       ]
      },
      {
       "output_type": "stream",
       "stream": "stdout",
       "text": [
        " attributes.dietary_restrictions.halal\n",
        "Total number of Samples are 582\n",
        "Total number of True-High Samples are 313\n",
        "Total number of True-Low Samples are 65\n",
        "Total number of False-High Samples are 105\n",
        "Total number of False-Low Samples are 99\n",
        "Percentage correlation between: attributes.dietary_restrictions.halal and review stars is 70 %\n",
        "-------------------------------------------------------\n",
        "Statistics for Column"
       ]
      },
      {
       "output_type": "stream",
       "stream": "stdout",
       "text": [
        " attributes.takes_reservations\n",
        "Total number of Samples are 76407\n",
        "Total number of True-High Samples are 30715\n",
        "Total number of True-Low Samples are 15778\n",
        "Total number of False-High Samples are 19615\n",
        "Total number of False-Low Samples are 10299\n",
        "Percentage correlation between: attributes.takes_reservations and review stars is 53 %\n",
        "-------------------------------------------------------\n",
        "Statistics for Column"
       ]
      },
      {
       "output_type": "stream",
       "stream": "stdout",
       "text": [
        " attributes.ambience.trendy\n",
        "Total number of Samples are 77602\n",
        "Total number of True-High Samples are 12496\n",
        "Total number of True-Low Samples are 5998\n",
        "Total number of False-High Samples are 38669\n",
        "Total number of False-Low Samples are 20439\n",
        "Percentage correlation between: attributes.ambience.trendy and review stars is 42 %\n",
        "-------------------------------------------------------\n",
        "Statistics for Column"
       ]
      },
      {
       "output_type": "stream",
       "stream": "stdout",
       "text": [
        " attributes.delivery\n",
        "Total number of Samples are 75735\n",
        "Total number of True-High Samples are 6763\n",
        "Total number of True-Low Samples are 3269\n",
        "Total number of False-High Samples are 43265\n",
        "Total number of False-Low Samples are 22438\n",
        "Percentage correlation between: attributes.delivery and review stars is 38 %\n",
        "-------------------------------------------------------\n",
        "Statistics for Column"
       ]
      },
      {
       "output_type": "stream",
       "stream": "stdout",
       "text": [
        " attributes.payment_types.discover\n",
        "Total number of Samples are 1708\n",
        "Total number of True-High Samples are 831\n",
        "Total number of True-Low Samples are 189\n",
        "Total number of False-High Samples are 307\n",
        "Total number of False-Low Samples are 381\n",
        "Percentage correlation between: attributes.payment_types.discover and review stars is 70 %\n",
        "-------------------------------------------------------\n",
        "Statistics for Column"
       ]
      },
      {
       "output_type": "stream",
       "stream": "stdout",
       "text": [
        " attributes.wheelchair_accessible\n",
        "Total number of Samples are 76957\n",
        "Total number of True-High Samples are 48422\n",
        "Total number of True-Low Samples are 24701\n",
        "Total number of False-High Samples are 2627\n",
        "Total number of False-Low Samples are 1207\n",
        "Percentage correlation between: attributes.wheelchair_accessible and review stars is 64 %\n",
        "-------------------------------------------------------\n",
        "Statistics for Column"
       ]
      },
      {
       "output_type": "stream",
       "stream": "stdout",
       "text": [
        " attributes.dietary_restrictions.gluten-free\n",
        "Total number of Samples are 582\n",
        "Total number of True-High Samples are 0\n",
        "Total number of True-Low Samples are 0\n",
        "Total number of False-High Samples are 418\n",
        "Total number of False-Low Samples are 164\n",
        "Percentage correlation between: attributes.dietary_restrictions.gluten-free and review stars is 28 %\n",
        "-------------------------------------------------------\n",
        "Statistics for Column"
       ]
      },
      {
       "output_type": "stream",
       "stream": "stdout",
       "text": [
        " attributes.payment_types.visa\n",
        "Total number of Samples are 1708\n",
        "Total number of True-High Samples are 1138\n",
        "Total number of True-Low Samples are 570\n",
        "Total number of False-High Samples are 0\n",
        "Total number of False-Low Samples are 0\n",
        "Percentage correlation between: attributes.payment_types.visa and review stars is 66 %\n",
        "-------------------------------------------------------\n",
        "Statistics for Column"
       ]
      },
      {
       "output_type": "stream",
       "stream": "stdout",
       "text": [
        " attributes.caters\n",
        "Total number of Samples are 68400\n",
        "Total number of True-High Samples are 14700\n",
        "Total number of True-Low Samples are 6430\n",
        "Total number of False-High Samples are 30703\n",
        "Total number of False-Low Samples are 16567\n",
        "Percentage correlation between: attributes.caters and review stars is 45 %\n",
        "-------------------------------------------------------\n",
        "Statistics for Column"
       ]
      },
      {
       "output_type": "stream",
       "stream": "stdout",
       "text": [
        " attributes.ambience.intimate\n",
        "Total number of Samples are 77602\n",
        "Total number of True-High Samples are 450\n",
        "Total number of True-Low Samples are 181\n",
        "Total number of False-High Samples are 50715\n",
        "Total number of False-Low Samples are 26256\n",
        "Percentage correlation between: attributes.ambience.intimate and review stars is 34 %\n",
        "-------------------------------------------------------\n",
        "Statistics for Column"
       ]
      },
      {
       "output_type": "stream",
       "stream": "stdout",
       "text": [
        " attributes.music.playlist\n",
        "Total number of Samples are 0\n",
        "Total number of True-High Samples are 0\n",
        "Total number of True-Low Samples are 0\n",
        "Total number of False-High Samples are 0\n",
        "Total number of False-Low Samples are 0\n",
        "Percentage correlation between: attributes.music.playlist and review stars is"
       ]
      },
      {
       "ename": "ZeroDivisionError",
       "evalue": "integer division or modulo by zero",
       "output_type": "pyerr",
       "traceback": [
        "\u001b[0;31m---------------------------------------------------------------------------\u001b[0m\n\u001b[0;31mZeroDivisionError\u001b[0m                         Traceback (most recent call last)",
        "\u001b[0;32m<ipython-input-19-ce694b1cd847>\u001b[0m in \u001b[0;36m<module>\u001b[0;34m()\u001b[0m\n\u001b[1;32m      1\u001b[0m \u001b[0;32mfor\u001b[0m \u001b[0mcolumn\u001b[0m \u001b[0;32min\u001b[0m \u001b[0mbusiness_review_user_data\u001b[0m\u001b[0;34m.\u001b[0m\u001b[0mcolumns\u001b[0m\u001b[0;34m:\u001b[0m\u001b[0;34m\u001b[0m\u001b[0m\n\u001b[1;32m      2\u001b[0m     \u001b[0;32mif\u001b[0m \u001b[0;34m'attributes'\u001b[0m \u001b[0;32min\u001b[0m \u001b[0mcolumn\u001b[0m \u001b[0;32mand\u001b[0m \u001b[0;34m'True'\u001b[0m \u001b[0;32min\u001b[0m \u001b[0mbusiness_review_user_data\u001b[0m\u001b[0;34m[\u001b[0m\u001b[0mcolumn\u001b[0m\u001b[0;34m]\u001b[0m\u001b[0;34m.\u001b[0m\u001b[0munique\u001b[0m\u001b[0;34m(\u001b[0m\u001b[0;34m)\u001b[0m\u001b[0;34m:\u001b[0m\u001b[0;34m\u001b[0m\u001b[0m\n\u001b[0;32m----> 3\u001b[0;31m         \u001b[0mcalculateCorrelation\u001b[0m\u001b[0;34m(\u001b[0m\u001b[0mcolumn\u001b[0m\u001b[0;34m)\u001b[0m\u001b[0;34m\u001b[0m\u001b[0m\n\u001b[0m",
        "\u001b[0;32m<ipython-input-17-ce214305b953>\u001b[0m in \u001b[0;36mcalculateCorrelation\u001b[0;34m(colName)\u001b[0m\n\u001b[1;32m     16\u001b[0m     \u001b[0;32mprint\u001b[0m \u001b[0;34m\"Total number of False-High Samples are\"\u001b[0m\u001b[0;34m,\u001b[0m \u001b[0mfalseHigh\u001b[0m\u001b[0;34m\u001b[0m\u001b[0m\n\u001b[1;32m     17\u001b[0m     \u001b[0;32mprint\u001b[0m \u001b[0;34m\"Total number of False-Low Samples are\"\u001b[0m\u001b[0;34m,\u001b[0m \u001b[0mfalseLow\u001b[0m\u001b[0;34m\u001b[0m\u001b[0m\n\u001b[0;32m---> 18\u001b[0;31m     \u001b[0;32mprint\u001b[0m \u001b[0;34m\"Percentage correlation between:\"\u001b[0m\u001b[0;34m,\u001b[0m\u001b[0mcolName\u001b[0m\u001b[0;34m,\u001b[0m\u001b[0;34m\"and review stars is\"\u001b[0m\u001b[0;34m,\u001b[0m\u001b[0;36m100\u001b[0m\u001b[0;34m*\u001b[0m\u001b[0;34m(\u001b[0m\u001b[0mtrueHigh\u001b[0m\u001b[0;34m+\u001b[0m\u001b[0mfalseLow\u001b[0m\u001b[0;34m)\u001b[0m\u001b[0;34m/\u001b[0m\u001b[0mtotalSamples\u001b[0m\u001b[0;34m,\u001b[0m\u001b[0;34m\"%\"\u001b[0m\u001b[0;34m\u001b[0m\u001b[0m\n\u001b[0m\u001b[1;32m     19\u001b[0m     \u001b[0;32mprint\u001b[0m \u001b[0;34m\"-------------------------------------------------------\"\u001b[0m\u001b[0;34m\u001b[0m\u001b[0m\n",
        "\u001b[0;31mZeroDivisionError\u001b[0m: integer division or modulo by zero"
       ]
      }
     ],
     "prompt_number": 19
    },
    {
     "cell_type": "code",
     "collapsed": false,
     "input": [],
     "language": "python",
     "metadata": {},
     "outputs": []
    }
   ],
   "metadata": {}
  }
 ]
}